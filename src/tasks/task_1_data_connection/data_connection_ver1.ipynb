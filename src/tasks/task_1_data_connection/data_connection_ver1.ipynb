{
 "cells": [
  {
   "cell_type": "code",
   "execution_count": null,
   "metadata": {},
   "outputs": [],
   "source": [
    "import requests\n",
    "import json\n",
    "from urllib.parse import unquote\n",
    "\n",
    "# Define the base URL for the API\n",
    "base_url = \"https://data.abudhabi/opendata\"\n",
    "\n",
    "# Define a list of API endpoint paths\n",
    "endpoint_paths = [\n",
    "    \"/api/1/metastore/schemas/dataset/items/dd41eed2-a2ca-4d9d-87b5-9fd9e93be8aa\",\n",
    "    \"/api/1/metastore/schemas/dataset/items/d284d312-9778-40e6-8d0c-85beba4ed48f\",\n",
    "    \"/api/1/metastore/schemas/dataset/items/b5c53b97-397c-4a35-9f09-e99ba59a72a7\",\n",
    "    \"/api/1/metastore/schemas/dataset/items/3103307a-6eff-4c68-850a-333df20d059d\",\n",
    "    \"/api/1/metastore/schemas/dataset/items/b1044f67-3a13-44a9-be19-acb8ab40f142\"\n",
    "    # Add more endpoint paths here as needed\n",
    "]\n",
    "\n",
    "# Create a list to store dataset information\n",
    "dataset_info_list = []\n",
    "\n",
    "# Loop through the endpoint paths\n",
    "for endpoint_path in endpoint_paths:\n",
    "    # Combine the base URL and endpoint path to form the full API URL\n",
    "    api_url = f\"{base_url}{endpoint_path}\"\n",
    "\n",
    "    try:\n",
    "        # Send an HTTP GET request to the API endpoint\n",
    "        response = requests.get(api_url)\n",
    "\n",
    "        # Check if the request was successful (status code 200)\n",
    "        if response.status_code == 200:\n",
    "            # Parse the JSON response containing data\n",
    "            data = response.json()\n",
    "\n",
    "            # Access the \"distribution\" field from the data\n",
    "            distributions = data.get('distribution')\n",
    "            if distributions:\n",
    "                # Iterate through the distribution items\n",
    "                for distribution in distributions:\n",
    "                    # Access and print the download URL\n",
    "                    download_url = distribution.get('downloadURL')\n",
    "                    if download_url:\n",
    "                        # Extract dataset name from the URL and decode it\n",
    "                        parts = download_url.split('/')\n",
    "                        dataset_name = unquote(parts[-1].split('.')[0])\n",
    "\n",
    "                        # Create a dictionary with the extracted information\n",
    "                        dataset_info = {\n",
    "                            \"dataset_name\": dataset_name,\n",
    "                            \"download_url\": download_url\n",
    "                        }\n",
    "\n",
    "                        # Append the dataset information to the list\n",
    "                        dataset_info_list.append(dataset_info)\n",
    "\n",
    "        else:\n",
    "            print(f\"Failed to retrieve data for endpoint {endpoint_path}. Status code: {response.status_code}\")\n",
    "\n",
    "    except requests.exceptions.RequestException as e:\n",
    "        print(f\"Request error for endpoint {endpoint_path}: {e}\")\n",
    "\n",
    "# Convert the list of dataset information to a JSON object\n",
    "dataset_info_json = json.dumps(dataset_info_list, ensure_ascii=False, indent=4)\n",
    "\n",
    "# Print the JSON object\n",
    "print(dataset_info_json)\n"
   ]
  },
  {
   "cell_type": "code",
   "execution_count": 13,
   "metadata": {},
   "outputs": [],
   "source": [
    "from data_connection import DataConnection"
   ]
  },
  {
   "cell_type": "code",
   "execution_count": 14,
   "metadata": {},
   "outputs": [],
   "source": [
    "d_c=DataConnection()"
   ]
  },
  {
   "cell_type": "code",
   "execution_count": 15,
   "metadata": {},
   "outputs": [
    {
     "ename": "FileNotFoundError",
     "evalue": "[Errno 2] No such file or directory: '/Users/laks007/Documents/AIML/omdena/local_chapters/project1/UAE_Open_Data_Intelligence/src/tasks/task_1_data_connection/src/tasks/task_1_data_connection/end_points.json'",
     "output_type": "error",
     "traceback": [
      "\u001b[0;31m---------------------------------------------------------------------------\u001b[0m",
      "\u001b[0;31mFileNotFoundError\u001b[0m                         Traceback (most recent call last)",
      "\u001b[0;32m<ipython-input-15-44664fac9f76>\u001b[0m in \u001b[0;36m<module>\u001b[0;34m\u001b[0m\n\u001b[1;32m      1\u001b[0m \u001b[0mdset\u001b[0m \u001b[0;34m=\u001b[0m \u001b[0;34m'Government Education'\u001b[0m\u001b[0;34m\u001b[0m\u001b[0;34m\u001b[0m\u001b[0m\n\u001b[0;32m----> 2\u001b[0;31m \u001b[0mdf\u001b[0m \u001b[0;34m=\u001b[0m \u001b[0md_c\u001b[0m\u001b[0;34m.\u001b[0m\u001b[0mget_dataset\u001b[0m\u001b[0;34m(\u001b[0m\u001b[0mdset\u001b[0m\u001b[0;34m)\u001b[0m\u001b[0;34m\u001b[0m\u001b[0;34m\u001b[0m\u001b[0m\n\u001b[0m\u001b[1;32m      3\u001b[0m \u001b[0mprint\u001b[0m\u001b[0;34m(\u001b[0m\u001b[0mdf\u001b[0m\u001b[0;34m.\u001b[0m\u001b[0mhead\u001b[0m\u001b[0;34m(\u001b[0m\u001b[0;34m)\u001b[0m\u001b[0;34m)\u001b[0m\u001b[0;34m\u001b[0m\u001b[0;34m\u001b[0m\u001b[0m\n",
      "\u001b[0;32m~/Documents/AIML/omdena/local_chapters/project1/UAE_Open_Data_Intelligence/src/tasks/task_1_data_connection/handle_exceptions.py\u001b[0m in \u001b[0;36mwrapper\u001b[0;34m(self, *args, **kw)\u001b[0m\n\u001b[1;32m      8\u001b[0m             \u001b[0;32mreturn\u001b[0m \u001b[0mresult\u001b[0m\u001b[0;34m\u001b[0m\u001b[0;34m\u001b[0m\u001b[0m\n\u001b[1;32m      9\u001b[0m         \u001b[0;32mexcept\u001b[0m \u001b[0mException\u001b[0m \u001b[0;32mas\u001b[0m \u001b[0mexcpt\u001b[0m\u001b[0;34m:\u001b[0m\u001b[0;34m\u001b[0m\u001b[0;34m\u001b[0m\u001b[0m\n\u001b[0;32m---> 10\u001b[0;31m             \u001b[0;32mraise\u001b[0m \u001b[0mexcpt\u001b[0m\u001b[0;34m\u001b[0m\u001b[0;34m\u001b[0m\u001b[0m\n\u001b[0m\u001b[1;32m     11\u001b[0m     \u001b[0;32mreturn\u001b[0m \u001b[0mwrapper\u001b[0m\u001b[0;34m\u001b[0m\u001b[0;34m\u001b[0m\u001b[0m\n\u001b[1;32m     12\u001b[0m \u001b[0;34m\u001b[0m\u001b[0m\n",
      "\u001b[0;32m~/Documents/AIML/omdena/local_chapters/project1/UAE_Open_Data_Intelligence/src/tasks/task_1_data_connection/handle_exceptions.py\u001b[0m in \u001b[0;36mwrapper\u001b[0;34m(self, *args, **kw)\u001b[0m\n\u001b[1;32m      5\u001b[0m     \u001b[0;32mdef\u001b[0m \u001b[0mwrapper\u001b[0m\u001b[0;34m(\u001b[0m\u001b[0mself\u001b[0m\u001b[0;34m,\u001b[0m \u001b[0;34m*\u001b[0m\u001b[0margs\u001b[0m\u001b[0;34m,\u001b[0m \u001b[0;34m**\u001b[0m\u001b[0mkw\u001b[0m\u001b[0;34m)\u001b[0m\u001b[0;34m:\u001b[0m\u001b[0;34m\u001b[0m\u001b[0;34m\u001b[0m\u001b[0m\n\u001b[1;32m      6\u001b[0m         \u001b[0;32mtry\u001b[0m\u001b[0;34m:\u001b[0m\u001b[0;34m\u001b[0m\u001b[0;34m\u001b[0m\u001b[0m\n\u001b[0;32m----> 7\u001b[0;31m             \u001b[0mresult\u001b[0m \u001b[0;34m=\u001b[0m \u001b[0mfunc\u001b[0m\u001b[0;34m(\u001b[0m\u001b[0mself\u001b[0m\u001b[0;34m,\u001b[0m \u001b[0;34m*\u001b[0m\u001b[0margs\u001b[0m\u001b[0;34m,\u001b[0m \u001b[0;34m**\u001b[0m\u001b[0mkw\u001b[0m\u001b[0;34m)\u001b[0m\u001b[0;34m\u001b[0m\u001b[0;34m\u001b[0m\u001b[0m\n\u001b[0m\u001b[1;32m      8\u001b[0m             \u001b[0;32mreturn\u001b[0m \u001b[0mresult\u001b[0m\u001b[0;34m\u001b[0m\u001b[0;34m\u001b[0m\u001b[0m\n\u001b[1;32m      9\u001b[0m         \u001b[0;32mexcept\u001b[0m \u001b[0mException\u001b[0m \u001b[0;32mas\u001b[0m \u001b[0mexcpt\u001b[0m\u001b[0;34m:\u001b[0m\u001b[0;34m\u001b[0m\u001b[0;34m\u001b[0m\u001b[0m\n",
      "\u001b[0;32m~/Documents/AIML/omdena/local_chapters/project1/UAE_Open_Data_Intelligence/src/tasks/task_1_data_connection/data_connection.py\u001b[0m in \u001b[0;36mget_dataset\u001b[0;34m(self, dataset_name)\u001b[0m\n\u001b[1;32m     19\u001b[0m             \u001b[0mparams\u001b[0m\u001b[0;34m:\u001b[0m \u001b[0mstring\u001b[0m \u001b[0mtype\u001b[0m \u001b[0;34m'dataset_name'\u001b[0m\u001b[0;34m\u001b[0m\u001b[0;34m\u001b[0m\u001b[0m\n\u001b[1;32m     20\u001b[0m         \"\"\"\n\u001b[0;32m---> 21\u001b[0;31m         \u001b[0;31m# end_points_path = os.path.join(self.root_folder,'end_points.json')\u001b[0m\u001b[0;34m\u001b[0m\u001b[0;34m\u001b[0m\u001b[0;34m\u001b[0m\u001b[0m\n\u001b[0m\u001b[1;32m     22\u001b[0m         \u001b[0;31m# print(end_points_path)\u001b[0m\u001b[0;34m\u001b[0m\u001b[0;34m\u001b[0m\u001b[0;34m\u001b[0m\u001b[0m\n\u001b[1;32m     23\u001b[0m         \u001b[0;32mwith\u001b[0m \u001b[0mopen\u001b[0m\u001b[0;34m(\u001b[0m\u001b[0;34m'end_points.json'\u001b[0m\u001b[0;34m)\u001b[0m \u001b[0;32mas\u001b[0m \u001b[0mend_points_file\u001b[0m\u001b[0;34m:\u001b[0m\u001b[0;34m\u001b[0m\u001b[0;34m\u001b[0m\u001b[0m\n",
      "\u001b[0;31mFileNotFoundError\u001b[0m: [Errno 2] No such file or directory: '/Users/laks007/Documents/AIML/omdena/local_chapters/project1/UAE_Open_Data_Intelligence/src/tasks/task_1_data_connection/src/tasks/task_1_data_connection/end_points.json'"
     ]
    }
   ],
   "source": [
    "dset = 'Government Education'\n",
    "df = d_c.get_dataset(dset)\n",
    "print(df.head())"
   ]
  },
  {
   "cell_type": "code",
   "execution_count": null,
   "metadata": {},
   "outputs": [],
   "source": []
  }
 ],
 "metadata": {
  "kernelspec": {
   "display_name": "Python 3",
   "language": "python",
   "name": "python3"
  },
  "language_info": {
   "codemirror_mode": {
    "name": "ipython",
    "version": 3
   },
   "file_extension": ".py",
   "mimetype": "text/x-python",
   "name": "python",
   "nbconvert_exporter": "python",
   "pygments_lexer": "ipython3",
   "version": "3.8.5"
  },
  "toc": {
   "base_numbering": 1,
   "nav_menu": {},
   "number_sections": true,
   "sideBar": true,
   "skip_h1_title": false,
   "title_cell": "Table of Contents",
   "title_sidebar": "Contents",
   "toc_cell": false,
   "toc_position": {},
   "toc_section_display": true,
   "toc_window_display": false
  }
 },
 "nbformat": 4,
 "nbformat_minor": 5
}
