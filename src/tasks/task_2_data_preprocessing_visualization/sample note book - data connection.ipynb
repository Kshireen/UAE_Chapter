{
 "cells": [
  {
   "cell_type": "code",
   "execution_count": 1,
   "metadata": {},
   "outputs": [],
   "source": [
    "import os,sys\n",
    "current_directory = os.path.dirname(os.getcwd())\n",
    "current_directory = os.path.join(current_directory,'task_1_data_connection')\n",
    "sys.path.append(current_directory)\n",
    "from data_connection import DataConnection\n"
   ]
  },
  {
   "cell_type": "code",
   "execution_count": 3,
   "metadata": {},
   "outputs": [
    {
     "data": {
      "text/html": [
       "<div>\n",
       "<style scoped>\n",
       "    .dataframe tbody tr th:only-of-type {\n",
       "        vertical-align: middle;\n",
       "    }\n",
       "\n",
       "    .dataframe tbody tr th {\n",
       "        vertical-align: top;\n",
       "    }\n",
       "\n",
       "    .dataframe thead th {\n",
       "        text-align: right;\n",
       "    }\n",
       "</style>\n",
       "<table border=\"1\" class=\"dataframe\">\n",
       "  <thead>\n",
       "    <tr style=\"text-align: right;\">\n",
       "      <th></th>\n",
       "      <th>year</th>\n",
       "      <th>Title_en</th>\n",
       "      <th>Title_ar</th>\n",
       "      <th>Gender_en</th>\n",
       "      <th>Gender_ar</th>\n",
       "      <th>value</th>\n",
       "    </tr>\n",
       "  </thead>\n",
       "  <tbody>\n",
       "    <tr>\n",
       "      <th>0</th>\n",
       "      <td>2014 / 2013</td>\n",
       "      <td>Schools</td>\n",
       "      <td>المدارس</td>\n",
       "      <td>Male</td>\n",
       "      <td>ذكور</td>\n",
       "      <td>259</td>\n",
       "    </tr>\n",
       "    <tr>\n",
       "      <th>1</th>\n",
       "      <td>2014 / 2013</td>\n",
       "      <td>Teaching, staff</td>\n",
       "      <td>الهيئات التعليمية</td>\n",
       "      <td>Male</td>\n",
       "      <td>ذكور</td>\n",
       "      <td>6955</td>\n",
       "    </tr>\n",
       "    <tr>\n",
       "      <th>2</th>\n",
       "      <td>2014 / 2013</td>\n",
       "      <td>Students</td>\n",
       "      <td>الطلاب</td>\n",
       "      <td>Male</td>\n",
       "      <td>ذكور</td>\n",
       "      <td>129382</td>\n",
       "    </tr>\n",
       "    <tr>\n",
       "      <th>3</th>\n",
       "      <td>2014 / 2013</td>\n",
       "      <td>Schools</td>\n",
       "      <td>المدارس</td>\n",
       "      <td>Female</td>\n",
       "      <td>إناث</td>\n",
       "      <td>236</td>\n",
       "    </tr>\n",
       "    <tr>\n",
       "      <th>4</th>\n",
       "      <td>2014 / 2013</td>\n",
       "      <td>Teaching, staff</td>\n",
       "      <td>الهيئات التعليمية</td>\n",
       "      <td>Female</td>\n",
       "      <td>إناث</td>\n",
       "      <td>17960</td>\n",
       "    </tr>\n",
       "  </tbody>\n",
       "</table>\n",
       "</div>"
      ],
      "text/plain": [
       "          year         Title_en           Title_ar Gender_en Gender_ar   value\n",
       "0  2014 / 2013          Schools            المدارس      Male      ذكور     259\n",
       "1  2014 / 2013  Teaching, staff  الهيئات التعليمية      Male      ذكور    6955\n",
       "2  2014 / 2013         Students             الطلاب      Male      ذكور  129382\n",
       "3  2014 / 2013          Schools            المدارس    Female      إناث     236\n",
       "4  2014 / 2013  Teaching, staff  الهيئات التعليمية    Female      إناث   17960"
      ]
     },
     "execution_count": 3,
     "metadata": {},
     "output_type": "execute_result"
    }
   ],
   "source": [
    "d_c=DataConnection()\n",
    "dset = 'Government Education'\n",
    "df = d_c.get_dataset(dset)\n",
    "df.head()"
   ]
  },
  {
   "cell_type": "code",
   "execution_count": null,
   "metadata": {},
   "outputs": [],
   "source": [
    "# continue with preprocessing"
   ]
  }
 ],
 "metadata": {
  "kernelspec": {
   "display_name": "Python 3",
   "language": "python",
   "name": "python3"
  },
  "language_info": {
   "codemirror_mode": {
    "name": "ipython",
    "version": 3
   },
   "file_extension": ".py",
   "mimetype": "text/x-python",
   "name": "python",
   "nbconvert_exporter": "python",
   "pygments_lexer": "ipython3",
   "version": "3.8.5"
  }
 },
 "nbformat": 4,
 "nbformat_minor": 4
}
