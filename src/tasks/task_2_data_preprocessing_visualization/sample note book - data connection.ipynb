{
 "cells": [
  {
   "cell_type": "code",
   "execution_count": 1,
   "metadata": {},
   "outputs": [],
   "source": [
    "import os,sys\n",
    "current_directory = os.path.dirname(os.getcwd())\n",
    "current_directory = os.path.join(current_directory,'task_1_data_connection')\n",
    "sys.path.append(current_directory)\n",
    "from data_connection import DataConnection\n"
   ]
  },
  {
   "cell_type": "code",
   "execution_count": 2,
   "metadata": {},
   "outputs": [
    {
     "name": "stdout",
     "output_type": "stream",
     "text": [
      "          year         Title_en           Title_ar Gender_en Gender_ar   value\n",
      "0  2014 / 2013          Schools            المدارس      Male      ذكور     259\n",
      "1  2014 / 2013  Teaching, staff  الهيئات التعليمية      Male      ذكور    6955\n",
      "2  2014 / 2013         Students             الطلاب      Male      ذكور  129382\n",
      "3  2014 / 2013          Schools            المدارس    Female      إناث     236\n",
      "4  2014 / 2013  Teaching, staff  الهيئات التعليمية    Female      إناث   17960\n"
     ]
    }
   ],
   "source": [
    "d_c=DataConnection()\n",
    "dset = 'Government Education'\n",
    "df = d_c.get_dataset(dset)\n",
    "print(df.head())"
   ]
  },
  {
   "cell_type": "code",
   "execution_count": null,
   "metadata": {},
   "outputs": [],
   "source": [
    "# continue with preprocessing"
   ]
  }
 ],
 "metadata": {
  "kernelspec": {
   "display_name": "Python 3",
   "language": "python",
   "name": "python3"
  },
  "language_info": {
   "codemirror_mode": {
    "name": "ipython",
    "version": 3
   },
   "file_extension": ".py",
   "mimetype": "text/x-python",
   "name": "python",
   "nbconvert_exporter": "python",
   "pygments_lexer": "ipython3",
   "version": "3.8.5"
  }
 },
 "nbformat": 4,
 "nbformat_minor": 4
}
